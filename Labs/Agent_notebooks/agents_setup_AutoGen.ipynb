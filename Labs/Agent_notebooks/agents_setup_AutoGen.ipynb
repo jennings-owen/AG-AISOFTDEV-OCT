{
 "cells": [
  {
   "cell_type": "markdown",
   "metadata": {},
   "source": [
    "# Microsoft AutoGen: Building Conversational Agent Teams\n",
    "\n",
    "**Objective:** This notebook introduces Microsoft AutoGen, a powerful framework for creating multi-agent systems that solve tasks through conversation. You will learn how to set up a team of agents that can write code, execute it, and collaborate to achieve a user's goal.\n",
    "\n",
    "**Target Audience:** Software engineers attending the AI-Driven Software Engineering Program.\n",
    "\n",
    "**Core Philosophy:** AutoGen's core idea is that many complex tasks can be solved by a team of specialized agents conversing with each other. It provides a flexible and powerful platform for defining these agents and orchestrating their interactions."
   ]
  },
  {
   "cell_type": "markdown",
   "metadata": {},
   "source": [
    "## 1. Setup\n",
    "\n",
    "We will install `pyautogen` and configure our LLM provider. AutoGen is optimized for the OpenAI API format, so we will use that for this lab."
   ]
  },
  {
   "cell_type": "code",
   "execution_count": 1,
   "metadata": {},
   "outputs": [],
   "source": [
    "import os\n",
    "from dotenv import load_dotenv\n",
    "\n",
    "import warnings\n",
    "warnings.filterwarnings('ignore')\n",
    "\n",
    "load_dotenv()\n",
    "\n",
    "if not os.getenv(\"OPENAI_API_KEY\"):\n",
    "    print(\"ERROR: OPENAI_API_KEY not found. Please check your .env file.\")"
   ]
  },
  {
   "cell_type": "markdown",
   "metadata": {},
   "source": [
    "## 2. Foundational Two-Agent Chat: The Coder and the Proxy\n",
    "\n",
    "Our first example is the most common AutoGen pattern: a two-agent system for code generation.\n",
    "\n",
    "-   **`AssistantAgent`**: This is the primary AI agent. It's an LLM-powered agent that can write text, and importantly, code.\n",
    "-   **`UserProxyAgent`**: This agent acts as a proxy for the human user. Its key capability is that it can **execute code** sent by the `AssistantAgent`. This creates a powerful loop: the user gives a task, the assistant writes code, the proxy runs the code and reports the result (success or error), and the assistant can then debug or continue based on that feedback."
   ]
  },
  {
   "cell_type": "code",
   "execution_count": 2,
   "metadata": {},
   "outputs": [
    {
     "name": "stdout",
     "output_type": "stream",
     "text": [
      "--- Initiating Two-Agent Coding Chat ---\n",
      "\u001b[33mUserProxy\u001b[0m (to Coder):\n",
      "\n",
      "What is the current date? Write the Python code to find out and print it.\n",
      "\n",
      "--------------------------------------------------------------------------------\n",
      "\u001b[33mCoder\u001b[0m (to UserProxy):\n",
      "\n",
      "To find out the current date, you can use Python's built-in `datetime` module. Below is the Python code that retrieves and prints the current date.\n",
      "\n",
      "```python\n",
      "from datetime import datetime\n",
      "\n",
      "# Get the current date\n",
      "current_date = datetime.now().date()\n",
      "\n",
      "# Print the current date\n",
      "print(\"Current Date:\", current_date)\n",
      "```\n",
      "\n",
      "You can execute this code to see the current date. TERMINATE\n",
      "\n",
      "--------------------------------------------------------------------------------\n",
      "\u001b[31m\n",
      ">>>>>>>> TERMINATING RUN (f0745836-1747-48d8-8dd5-d8c27e016030): Termination message condition on agent 'UserProxy' met\u001b[0m\n"
     ]
    },
    {
     "data": {
      "text/plain": [
       "ChatResult(chat_id=115057371434643098499010585630243839917, chat_history=[{'content': 'What is the current date? Write the Python code to find out and print it.', 'role': 'assistant', 'name': 'UserProxy'}, {'content': 'To find out the current date, you can use Python\\'s built-in `datetime` module. Below is the Python code that retrieves and prints the current date.\\n\\n```python\\nfrom datetime import datetime\\n\\n# Get the current date\\ncurrent_date = datetime.now().date()\\n\\n# Print the current date\\nprint(\"Current Date:\", current_date)\\n```\\n\\nYou can execute this code to see the current date. TERMINATE', 'role': 'user', 'name': 'Coder'}], summary='To find out the current date, you can use Python\\'s built-in `datetime` module. Below is the Python code that retrieves and prints the current date.\\n\\n```python\\nfrom datetime import datetime\\n\\n# Get the current date\\ncurrent_date = datetime.now().date()\\n\\n# Print the current date\\nprint(\"Current Date:\", current_date)\\n```\\n\\nYou can execute this code to see the current date. ', cost={'usage_including_cached_inference': {'total_cost': 0.00204, 'gpt-4o-2024-08-06': {'cost': 0.00204, 'prompt_tokens': 484, 'completion_tokens': 83, 'total_tokens': 567}}, 'usage_excluding_cached_inference': {'total_cost': 0.00204, 'gpt-4o-2024-08-06': {'cost': 0.00204, 'prompt_tokens': 484, 'completion_tokens': 83, 'total_tokens': 567}}}, human_input=[])"
      ]
     },
     "execution_count": 2,
     "metadata": {},
     "output_type": "execute_result"
    }
   ],
   "source": [
    "import autogen \n",
    "\n",
    "# AutoGen requires a 'config_list' to define the LLM to use.\n",
    "config_list = [\n",
    "    {\n",
    "        'model': 'gpt-4o',\n",
    "        'api_key': os.getenv(\"OPENAI_API_KEY\"),\n",
    "    }\n",
    "]\n",
    "\n",
    "# The LLM configuration for the agents\n",
    "llm_config = {\"config_list\": config_list}\n",
    "\n",
    "# 1. The Coder Agent\n",
    "coder = autogen.AssistantAgent(\n",
    "    name=\"Coder\",\n",
    "    llm_config=llm_config,\n",
    ")\n",
    "\n",
    "# 2. The User Proxy Agent (with code execution)\n",
    "user_proxy = autogen.UserProxyAgent(\n",
    "    name=\"UserProxy\",\n",
    "    human_input_mode=\"NEVER\", # The conversation runs automatically\n",
    "    max_consecutive_auto_reply=8,\n",
    "    is_termination_msg=lambda x: x.get(\"content\", \"\").rstrip().endswith(\"TERMINATE\"),\n",
    "    code_execution_config={\n",
    "        \"work_dir\": \"autogen_work_dir\", # Directory to save and execute code\n",
    "        \"use_docker\": False,  # Set to True for safer execution if you have Docker\n",
    "    },\n",
    ")\n",
    "\n",
    "# 3. Initiate the conversation\n",
    "print(\"--- Initiating Two-Agent Coding Chat ---\")\n",
    "user_proxy.initiate_chat(\n",
    "    coder,\n",
    "    message=\"What is the current date? Write the Python code to find out and print it.\",\n",
    ")"
   ]
  },
  {
   "cell_type": "markdown",
   "metadata": {},
   "source": [
    "## 3. Advanced Agentic Capability: A Three-Agent Team with a Reviewer\n",
    "\n",
    "Now, let's build a more realistic software development workflow by adding a third agent: a `CodeReviewer`. This demonstrates AutoGen's `GroupChat` feature, where multiple agents can collaborate in a more complex conversation.\n",
    "\n",
    "The flow will be:\n",
    "1.  The `UserProxy` gives a task.\n",
    "2.  The `Coder` writes the code.\n",
    "3.  The `CodeReviewer` critiques the code.\n",
    "4.  The `Coder` revises the code based on the feedback.\n",
    "5.  The `UserProxy` executes the final, approved code."
   ]
  },
  {
   "cell_type": "code",
   "execution_count": 3,
   "metadata": {},
   "outputs": [
    {
     "name": "stdout",
     "output_type": "stream",
     "text": [
      "\n",
      "--- Initiating Three-Agent Group Chat with Reviewer ---\n",
      "\u001b[33mUserProxy\u001b[0m (to chat_manager):\n",
      "\n",
      "Write a Python function that takes a list of numbers and returns a new list containing only the even numbers. Then, call the function with an example and print the result.\n",
      "\n",
      "--------------------------------------------------------------------------------\n",
      "\u001b[32m\n",
      "Next speaker: Coder\n",
      "\u001b[0m\n",
      "\u001b[33mCoder\u001b[0m (to chat_manager):\n",
      "\n",
      "To achieve this, we will define a Python function called `filter_even_numbers` that will iterate through a given list of numbers and include only the even numbers in a new list. We will then call this function with an example list and print the result.\n",
      "\n",
      "Here is the implementation:\n",
      "\n",
      "```python\n",
      "def filter_even_numbers(numbers):\n",
      "    return [num for num in numbers if num % 2 == 0]\n",
      "\n",
      "# Example usage\n",
      "example_list = [1, 2, 3, 4, 5, 6, 7, 8, 9, 10]\n",
      "even_numbers = filter_even_numbers(example_list)\n",
      "print(even_numbers)\n",
      "```\n",
      "\n",
      "In this code:\n",
      "- The function `filter_even_numbers` takes a list of numbers as input.\n",
      "- A list comprehension is used to filter out the even numbers (`num % 2 == 0`).\n",
      "- We call `filter_even_numbers` with `example_list` to demonstrate its functionality.\n",
      "- The result is printed, which should be a list of even numbers from the original list. \n",
      "\n",
      "Execute this code to verify its correct working with the provided example. TERMINATE\n",
      "\n",
      "--------------------------------------------------------------------------------\n",
      "\u001b[32m\n",
      "Next speaker: UserProxy\n",
      "\u001b[0m\n",
      "\u001b[31m\n",
      ">>>>>>>> TERMINATING RUN (92ff4d88-8926-44cf-9b50-8b4668149f85): Termination message condition on agent 'UserProxy' met\u001b[0m\n",
      "\u001b[31m\n",
      ">>>>>>>> TERMINATING RUN (f87af9b5-61a7-4ad5-a7d7-1abf46bd24b7): No reply generated\u001b[0m\n"
     ]
    },
    {
     "data": {
      "text/plain": [
       "ChatResult(chat_id=234625468559323440958145611174420771323, chat_history=[{'content': 'Write a Python function that takes a list of numbers and returns a new list containing only the even numbers. Then, call the function with an example and print the result.', 'role': 'assistant', 'name': 'UserProxy'}, {'content': 'To achieve this, we will define a Python function called `filter_even_numbers` that will iterate through a given list of numbers and include only the even numbers in a new list. We will then call this function with an example list and print the result.\\n\\nHere is the implementation:\\n\\n```python\\ndef filter_even_numbers(numbers):\\n    return [num for num in numbers if num % 2 == 0]\\n\\n# Example usage\\nexample_list = [1, 2, 3, 4, 5, 6, 7, 8, 9, 10]\\neven_numbers = filter_even_numbers(example_list)\\nprint(even_numbers)\\n```\\n\\nIn this code:\\n- The function `filter_even_numbers` takes a list of numbers as input.\\n- A list comprehension is used to filter out the even numbers (`num % 2 == 0`).\\n- We call `filter_even_numbers` with `example_list` to demonstrate its functionality.\\n- The result is printed, which should be a list of even numbers from the original list. \\n\\nExecute this code to verify its correct working with the provided example. TERMINATE', 'name': 'Coder', 'role': 'user'}], summary='To achieve this, we will define a Python function called `filter_even_numbers` that will iterate through a given list of numbers and include only the even numbers in a new list. We will then call this function with an example list and print the result.\\n\\nHere is the implementation:\\n\\n```python\\ndef filter_even_numbers(numbers):\\n    return [num for num in numbers if num % 2 == 0]\\n\\n# Example usage\\nexample_list = [1, 2, 3, 4, 5, 6, 7, 8, 9, 10]\\neven_numbers = filter_even_numbers(example_list)\\nprint(even_numbers)\\n```\\n\\nIn this code:\\n- The function `filter_even_numbers` takes a list of numbers as input.\\n- A list comprehension is used to filter out the even numbers (`num % 2 == 0`).\\n- We call `filter_even_numbers` with `example_list` to demonstrate its functionality.\\n- The result is printed, which should be a list of even numbers from the original list. \\n\\nExecute this code to verify its correct working with the provided example. ', cost={'usage_including_cached_inference': {'total_cost': 0}, 'usage_excluding_cached_inference': {'total_cost': 0}}, human_input=[])"
      ]
     },
     "execution_count": 3,
     "metadata": {},
     "output_type": "execute_result"
    }
   ],
   "source": [
    "# We can reuse the UserProxy and Coder from the previous example\n",
    "\n",
    "# 1. Create the Code Reviewer Agent\n",
    "reviewer = autogen.AssistantAgent(\n",
    "    name=\"CodeReviewer\",\n",
    "    system_message=\"You are a senior software engineer. Your role is to review code for quality, correctness, and best practices. You must provide constructive feedback. If the code is perfect, you must reply with the word 'APPROVED'.\",\n",
    "    llm_config=llm_config,\n",
    ")\n",
    "\n",
    "# 2. Set up the Group Chat\n",
    "groupchat = autogen.GroupChat(\n",
    "    agents=[user_proxy, coder, reviewer],\n",
    "    messages=[],\n",
    "    max_round=12\n",
    ")\n",
    "\n",
    "manager = autogen.GroupChatManager(groupchat=groupchat, llm_config=llm_config)\n",
    "\n",
    "# 3. Initiate the group chat\n",
    "print(\"\\n--- Initiating Three-Agent Group Chat with Reviewer ---\")\n",
    "user_proxy.initiate_chat(\n",
    "    manager,\n",
    "    message=\"Write a Python function that takes a list of numbers and returns a new list containing only the even numbers. Then, call the function with an example and print the result.\",\n",
    ")"
   ]
  },
  {
   "cell_type": "markdown",
   "metadata": {},
   "source": [
    "## Lab Conclusion\n",
    "\n",
    "This lab has introduced you to the core concepts of Microsoft AutoGen. You have built both a simple two-agent system and a more complex three-agent group chat, demonstrating how AutoGen facilitates collaborative problem-solving through conversation.\n",
    "\n",
    "**Key Takeaways:**\n",
    "- AutoGen excels at creating conversational agents that can collaborate.\n",
    "- The `UserProxyAgent` is a powerful construct that can act on behalf of the user, including executing code.\n",
    "- `GroupChat` allows you to orchestrate complex workflows with multiple specialized agents, mimicking a real-world development team.\n",
    "- The system messages for each agent are crucial for defining their roles and behaviors within the conversation."
   ]
  }
 ],
 "metadata": {
  "kernelspec": {
   "display_name": "venv",
   "language": "python",
   "name": "python3"
  },
  "language_info": {
   "codemirror_mode": {
    "name": "ipython",
    "version": 3
   },
   "file_extension": ".py",
   "mimetype": "text/x-python",
   "name": "python",
   "nbconvert_exporter": "python",
   "pygments_lexer": "ipython3",
   "version": "3.11.9"
  }
 },
 "nbformat": 4,
 "nbformat_minor": 4
}
