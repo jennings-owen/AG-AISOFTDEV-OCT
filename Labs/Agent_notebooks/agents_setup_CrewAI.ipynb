{
 "cells": [
  {
   "cell_type": "markdown",
   "metadata": {},
   "source": [
    "# CrewAI: Orchestrating Collaborative Agent Systems\n",
    "\n",
    "**Objective:** This notebook provides a hands-on guide to CrewAI, a framework designed for engineering sophisticated multi-agent systems. You will learn how to create a \"crew\" of autonomous AI agents that collaborate to achieve complex goals.\n",
    "\n",
    "**Target Audience:** Software engineers attending the AI-Driven Software Engineering Program.\n",
    "\n",
    "**Core Philosophy:** CrewAI's strength lies in its intuitive, high-level abstractions for defining agents with specific roles, assigning them tasks, and defining the workflow (process) they should follow. It simplifies the creation of systems where multiple agents work together, each contributing its specialized skills."
   ]
  },
  {
   "cell_type": "markdown",
   "metadata": {},
   "source": [
    "## 1. Setup\n",
    "\n",
    "First, we'll install the necessary libraries. CrewAI uses LangChain components under the hood. We will also install the `tavily-python` library directly to create a custom search tool, which helps avoid complex dependency issues."
   ]
  },
  {
   "cell_type": "code",
   "execution_count": 1,
   "metadata": {},
   "outputs": [],
   "source": [
    "import os\n",
    "from dotenv import load_dotenv\n",
    "\n",
    "load_dotenv()\n",
    "\n",
    "if not os.getenv(\"OPENAI_API_KEY\") or not os.getenv(\"TAVILY_API_KEY\"):\n",
    "    print(\"ERROR: OPENAI_API_KEY or TAVILY_API_KEY not found. Please check your .env file.\")"
   ]
  },
  {
   "cell_type": "markdown",
   "metadata": {},
   "source": [
    "## 2. Foundational Crew: The Two-Agent Team\n",
    "\n",
    "Our first example will be a simple, two-agent crew designed to plan a trip. This will introduce the three core concepts of CrewAI:\n",
    "\n",
    "-   **`Agent`**: A role-playing entity with a specific `role`, `goal`, and `backstory`.\n",
    "-   **`Task`**: A specific unit of work to be performed by an agent.\n",
    "-   **`Crew`**: A collection of agents and tasks, along with a defined `process` for execution."
   ]
  },
  {
   "cell_type": "code",
   "execution_count": 2,
   "metadata": {},
   "outputs": [
    {
     "name": "stdout",
     "output_type": "stream",
     "text": [
      "--- Kicking off the Trip Planning Crew ---\n",
      "\n",
      "--- Final Itinerary ---\n",
      "### Day 1: Introduction to Tokyo's Traditional Culture\n",
      "- **Nabezo Asakusa Kaminarimon**: Located just a few minutes from Senso-ji Temple, this restaurant offers an authentic kaiseki meal, perfect for lunch. The restaurant is well-reviewed for its elegant presentation and dedication to traditional Japanese flavors, aligning with the day's exploration of traditional culture in Asakusa.\n",
      "\n",
      "### Day 2: Modern Meets Traditional\n",
      "- **Izakaya Den**: Situated near Omotesando Avenue, Izakaya Den provides a casual yet immersive dining experience with a variety of small plates and local sake. The relaxed atmosphere and array of dishes allow you to enjoy a laid-back lunch amidst your modern and traditional cultural explorations in Harajuku and Omotesando.\n",
      "\n",
      "### Day 3: Discovering Historical and Cultural Depths\n",
      "- **Sushi Daiwa**: Although the Tsukiji Fish Market has moved to Toyosu, Sushi Daiwa remains a renowned spot near the old market area, maintaining its reputation for fresh and expertly crafted sushi. A dinner here is a fitting conclusion to a day steeped in history and culture, ending your trip with one of Japan's quintessential dining experiences.\n"
     ]
    }
   ],
   "source": [
    "from crewai import Agent, Task, Crew, Process\n",
    "from langchain_openai import ChatOpenAI\n",
    "\n",
    "# Use a LangChain model as the LLM for the agents\n",
    "llm = ChatOpenAI(model=\"gpt-4o\")\n",
    "\n",
    "# Agent 1: The Travel Expert\n",
    "travel_agent = Agent(\n",
    "    role='Expert Travel Agent',\n",
    "    goal='Create a detailed, 3-day itinerary for a trip.',\n",
    "    backstory='You have 20 years of experience in luxury travel planning and know all the hidden gems.',\n",
    "    verbose=True,\n",
    "    llm=llm\n",
    ")\n",
    "\n",
    "# Agent 2: The Local Food Critic\n",
    "food_critic = Agent(\n",
    "    role='Local Food Critic',\n",
    "    goal='Recommend the best, most authentic local restaurants for the trip.',\n",
    "    backstory='You are a famous food blogger who lives in the destination city and is an expert on its culinary scene.',\n",
    "    verbose=True,\n",
    "    llm=llm\n",
    ")\n",
    "\n",
    "# Task 1: Plan the Itinerary (for the Travel Agent)\n",
    "plan_itinerary = Task(\n",
    "    description='Create a 3-day travel itinerary for a trip to Tokyo, Japan. Focus on cultural sites and activities.',\n",
    "    expected_output='A markdown file with a day-by-day plan, including morning, afternoon, and evening activities.',\n",
    "    agent=travel_agent\n",
    ")\n",
    "\n",
    "# Task 2: Recommend Restaurants (for the Food Critic)\n",
    "# This task uses the output of the first task as its context.\n",
    "recommend_restaurants = Task(\n",
    "    description='Based on the planned itinerary, recommend one authentic restaurant for each day of the trip.',\n",
    "    expected_output='A list of 3 restaurant names, each with a brief description and why it fits the itinerary.',\n",
    "    agent=food_critic,\n",
    "    context=[plan_itinerary]\n",
    ")\n",
    "\n",
    "# Form the crew with a sequential process\n",
    "trip_crew = Crew(\n",
    "    agents=[travel_agent, food_critic],\n",
    "    tasks=[plan_itinerary, recommend_restaurants],\n",
    "    process=Process.sequential,\n",
    "    verbose=True\n",
    ")\n",
    "\n",
    "print(\"--- Kicking off the Trip Planning Crew ---\")\n",
    "trip_result = trip_crew.kickoff()\n",
    "\n",
    "print(\"\\n--- Final Itinerary ---\")\n",
    "print(trip_result)"
   ]
  },
  {
   "cell_type": "markdown",
   "metadata": {},
   "source": [
    "## 3. Adding Tools to a CrewAI Agent\n",
    "\n",
    "CrewAI agents can use tools to access external information and capabilities. Instead of relying on pre-built wrappers which can cause dependency issues, we can create our own custom tool by wrapping the Tavily Python client. This is a robust and flexible approach."
   ]
  },
  {
   "cell_type": "code",
   "execution_count": 3,
   "metadata": {},
   "outputs": [
    {
     "name": "stdout",
     "output_type": "stream",
     "text": [
      "--- Kicking off the Research Crew with Tools ---\n",
      "\n",
      "--- Final Research Summary ---\n",
      "1. NVIDIA First Company in History at $5 Trillion Value After Major Announcements at GTC 2025 (Dated: Sep 18th, 2025): NVIDIA's valuation reached $5 trillion following significant announcements at the GTC 2025, although a $500 billion GPU sales figure was clarified as a misinterpretation.\n",
      "\n",
      "2. NVIDIA Announces Financial Results for Second Quarter Fiscal 2026 (Dated: This was published in reference to fiscal results without a direct new date): NVIDIA released its financial results for the second quarter of fiscal 2026, detailing reconciliations that adjust GAAP financial measures for various expenses.\n",
      "\n",
      "3. Nvidia becomes first public company worth $5 trillion (Dated: Oct 29, 2025): Nvidia has surpassed a $5 trillion market cap as the first public company to do so, largely due to its role as a significant player in the AI boom.\n"
     ]
    }
   ],
   "source": [
    "from crewai.tools import BaseTool\n",
    "from tavily import TavilyClient\n",
    "\n",
    "# 1. Create a custom tool by inheriting from BaseTool\n",
    "class TavilySearchTool(BaseTool):\n",
    "    name: str = \"TavilySearch\"\n",
    "    description: str = \"A tool that can be used to search the web with Tavily for up-to-date information.\"\n",
    "    \n",
    "    def _run(self, query: str) -> str:\n",
    "        client = TavilyClient(api_key=os.getenv(\"TAVILY_API_KEY\"))\n",
    "        response = client.search(query=query, search_depth=\"basic\")\n",
    "        return response['results']\n",
    "\n",
    "# Instantiate our custom tool\n",
    "search_tool = TavilySearchTool()\n",
    "\n",
    "# 2. Create an agent and assign the custom tool to it\n",
    "market_researcher = Agent(\n",
    "    role='Market Research Analyst',\n",
    "    goal='Find and summarize the latest news about a specific company.',\n",
    "    backstory='You are a skilled analyst who can quickly find and synthesize financial news.',\n",
    "    tools=[search_tool], # Assign the custom tool here\n",
    "    verbose=True,\n",
    "    llm=llm\n",
    ")\n",
    "\n",
    "# 3. Create a task for the agent\n",
    "research_company_task = Task(\n",
    "    description='Find the top 3 news headlines for NVIDIA since September 2, 2025, summarize them and provide the news date',\n",
    "    expected_output='A numbered list of 3 headlines, each followed by a one-sentence summary.',\n",
    "    agent=market_researcher\n",
    ")\n",
    "\n",
    "# 4. Form a single-agent crew to run the task\n",
    "research_crew = Crew(\n",
    "    agents=[market_researcher],\n",
    "    tasks=[research_company_task],\n",
    "    verbose=True\n",
    ")\n",
    "\n",
    "print(\"--- Kicking off the Research Crew with Tools ---\")\n",
    "research_result = research_crew.kickoff()\n",
    "\n",
    "print(\"\\n--- Final Research Summary ---\")\n",
    "print(research_result)"
   ]
  },
  {
   "cell_type": "markdown",
   "metadata": {},
   "source": [
    "## 4. Advanced Capability: Hierarchical Process\n",
    "\n",
    "For more complex workflows, CrewAI offers a `hierarchical` process. In this mode, a manager agent is dynamically nominated to orchestrate the crew, delegating tasks to other agents and synthesizing the final result. This is suitable for problems that require more dynamic coordination."
   ]
  },
  {
   "cell_type": "code",
   "execution_count": 4,
   "metadata": {},
   "outputs": [
    {
     "name": "stdout",
     "output_type": "stream",
     "text": [
      "--- Kicking off the Hierarchical Crew ---\n",
      "\n",
      "--- Final Hierarchical Result ---\n",
      "**Day 1: Ancient Rome Essentials**\n",
      "\n",
      "- **Lunch: Trattoria Luzzi**  \n",
      "  Trattoria Luzzi is a classic Roman trattoria offering an authentic homestyle dining experience. Located near the Colosseum, it serves traditional Roman dishes like Cacio e Pepe and Amatriciana, providing a genuine taste of Roman cuisine. The bustling atmosphere, popular with locals, makes it a perfect introduction to Roman dining.\n",
      "\n",
      "- **Dinner: Ristorante Aroma**  \n",
      "  Overlooking the Colosseum, Ristorante Aroma provides a refined dining experience with authentic Italian flavors presented with a modern twist. Known for high-quality ingredients and traditional techniques, it offers a luxurious yet genuine Italian meal, making it a memorable dining spot to cap off a day exploring Rome's history.\n",
      "\n",
      "**Day 2: Vatican City & Baroque Rome**\n",
      "\n",
      "- **Lunch: Osteria Delle Commari**  \n",
      "  This charming restaurant near the Vatican focuses on traditional Roman cuisine, featuring dishes like Saltimbocca alla Romana and homemade pasta using fresh, local ingredients. Its cozy setting and authentic flavors offer an ideal respite during a day of visiting historic Vatican sites.\n",
      "\n",
      "- **Dinner: Da Fortunato al Pantheon**  \n",
      "  Known for its classic Italian dishes near the Pantheon, Da Fortunato al Pantheon maintains authenticity with a menu showcasing Roman classics prepared traditionally. Its focus on retaining traditional flavors makes it an excellent choice for those seeking genuine Roman dining experiences.\n",
      "\n",
      "**Day 3: Renaissance and Lesser-known Treasures**\n",
      "\n",
      "- **Lunch: Antica Osteria Brunetti**  \n",
      "  Situated near Piazza del Popolo, this restaurant boasts a welcoming atmosphere with traditional Roman cooking. Its menu, featuring classic dishes crafted attentively to tradition, provides an authentic dining experience that complements the exploration of nearby historical landmarks.\n",
      "\n",
      "- **Dinner: Spirito di Vino**  \n",
      "  Located in Trastevere's historical quarter within a 2,000-year-old cellar, Spirito di Vino specializes in historical recipes and ancient Roman culinary traditions. By using original ingredients to recreate traditional flavors, it delivers an authentically rich historical and culinary experience, perfect for concluding a cultural journey through Rome.\n"
     ]
    }
   ],
   "source": [
    "# Ensure Task, Crew, and Process are available (in case earlier cells haven't been run)\n",
    "from crewai import Task, Crew, Process\n",
    "\n",
    "# Re-using the agents from our first example\n",
    "\n",
    "# The tasks are the same, but we don't need to specify context\n",
    "plan_itinerary_h = Task(\n",
    "    description='Create a 3-day travel itinerary for a trip to Rome, Italy. Focus on historical sites.',\n",
    "    expected_output='A markdown file with a day-by-day plan.',\n",
    "    agent=travel_agent\n",
    ")\n",
    "\n",
    "recommend_restaurants_h = Task(\n",
    "    description='Recommend one authentic restaurant for each day of the trip to Rome.',\n",
    "    expected_output='A list of 3 restaurant names with descriptions.',\n",
    "    agent=food_critic\n",
    ")\n",
    "\n",
    "# Form the crew with a hierarchical process\n",
    "hierarchical_crew = Crew(\n",
    "    agents=[travel_agent, food_critic],\n",
    "    tasks=[plan_itinerary_h, recommend_restaurants_h],\n",
    "    process=Process.hierarchical,  # Use the hierarchical process\n",
    "    manager_llm=llm # Specify an LLM for the manager agent\n",
    ")\n",
    "\n",
    "print(\"--- Kicking off the Hierarchical Crew ---\")\n",
    "hierarchical_result = hierarchical_crew.kickoff()\n",
    "\n",
    "print(\"\\n--- Final Hierarchical Result ---\")\n",
    "print(hierarchical_result)"
   ]
  },
  {
   "cell_type": "markdown",
   "metadata": {},
   "source": [
    "## Lab Conclusion\n",
    "\n",
    "In this lab, you've learned the fundamentals of CrewAI. You've seen how to define agents with distinct roles, create tasks for them to perform, and assemble them into a crew that can work together sequentially or be managed hierarchically.\n",
    "\n",
    "**Key Takeaways:**\n",
    "- CrewAI is excellent for problems that can be broken down into distinct roles and responsibilities.\n",
    "- The `Agent`, `Task`, and `Crew` abstractions provide a clear and intuitive way to structure multi-agent systems.\n",
    "- Creating custom tools by inheriting from `BaseTool` is a reliable way to add capabilities and avoid dependency conflicts.\n",
    "- The `hierarchical` process allows for more dynamic, manager-led coordination for complex, non-linear tasks."
   ]
  }
 ],
 "metadata": {
  "kernelspec": {
   "display_name": "venv",
   "language": "python",
   "name": "python3"
  },
  "language_info": {
   "codemirror_mode": {
    "name": "ipython",
    "version": 3
   },
   "file_extension": ".py",
   "mimetype": "text/x-python",
   "name": "python",
   "nbconvert_exporter": "python",
   "pygments_lexer": "ipython3",
   "version": "3.11.9"
  }
 },
 "nbformat": 4,
 "nbformat_minor": 4
}
